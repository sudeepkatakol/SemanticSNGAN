{
 "cells": [
  {
   "cell_type": "code",
   "execution_count": 1,
   "metadata": {
    "collapsed": true
   },
   "outputs": [],
   "source": [
    "import pickle\n",
    "import numpy as np\n",
    "import matplotlib.pyplot as plt\n",
    "%matplotlib inline\n",
    "from scipy.misc import imsave\n",
    "from scipy import stats"
   ]
  },
  {
   "cell_type": "code",
   "execution_count": 2,
   "metadata": {
    "collapsed": true
   },
   "outputs": [],
   "source": [
    "import os, shutil"
   ]
  },
  {
   "cell_type": "code",
   "execution_count": 3,
   "metadata": {
    "collapsed": true
   },
   "outputs": [],
   "source": [
    "from collections import OrderedDict\n",
    "CATEGORY_DICT = OrderedDict({\n",
    "0 : \"airplane\", \n",
    "1: \"automobile\",\n",
    "2: \"bird\",\n",
    "3:\"cat\",\n",
    "4:\"deer\",\n",
    "5:\"dog\",\n",
    "6:\"frog\",\n",
    "7:\"horse\",\n",
    "8:\"ship\",\n",
    "9:\"truck\"\n",
    "})"
   ]
  },
  {
   "cell_type": "code",
   "execution_count": 4,
   "metadata": {
    "collapsed": true
   },
   "outputs": [],
   "source": [
    "MODE = \"generated\" # \"train\" or \"test\" or \"generated\"\n",
    "MAX_LOAD = 300 # Don't cross over 500\n",
    "CLEAR_EXISTING = True"
   ]
  },
  {
   "cell_type": "code",
   "execution_count": 5,
   "metadata": {
    "collapsed": true
   },
   "outputs": [],
   "source": [
    "BASE_DIR = os.getcwd()\n",
    "STATS_DIR = os.path.join(BASE_DIR, \"stats\")\n",
    "IMAGES_DIR = os.path.join(BASE_DIR, \"images\")\n",
    "PLOTS_DIR = os.path.join(BASE_DIR, \"desktop_plots\")\n",
    "assert(os.path.exists(STATS_DIR))"
   ]
  },
  {
   "cell_type": "code",
   "execution_count": 6,
   "metadata": {
    "collapsed": true
   },
   "outputs": [],
   "source": [
    "TRAIN_IMAGES_DIR = os.path.join(IMAGES_DIR, \"train\")\n",
    "TEST_IMAGES_DIR = os.path.join(IMAGES_DIR, \"test\")\n",
    "GENERATED_IMAGES_DIR = os.path.join(IMAGES_DIR, \"generated\")\n",
    "if not os.path.exists(IMAGES_DIR):\n",
    "    os.mkdir(IMAGES_DIR)\n",
    "    os.mkdir(TRAIN_IMAGES_DIR)\n",
    "    os.mkdir(TEST_IMAGES_DIR)\n",
    "    os.mkdir(GENERATED_IMAGES_DIR)\n",
    "else:\n",
    "    if not os.path.exists(TRAIN_IMAGES_DIR):\n",
    "        os.mkdir(TRAIN_IMAGES_DIR)\n",
    "    if not os.path.exists(TEST_IMAGES_DIR):\n",
    "        os.mkdir(TEST_IMAGES_DIR)\n",
    "    if not os.path.exists(GENERATED_IMAGES_DIR):\n",
    "        os.mkdir(GENERATED_IMAGES_DIR)"
   ]
  },
  {
   "cell_type": "code",
   "execution_count": 7,
   "metadata": {
    "collapsed": true
   },
   "outputs": [],
   "source": [
    "if MODE == \"train\":\n",
    "    IMAGES_SOURCE_DIR = TRAIN_IMAGES_DIR\n",
    "elif MODE == \"test\":\n",
    "    IMAGES_SOURCE_DIR = TEST_IMAGES_DIR\n",
    "elif MODE == \"generated\":\n",
    "    IMAGES_SOURCE_DIR = GENERATED_IMAGES_DIR"
   ]
  },
  {
   "cell_type": "code",
   "execution_count": 8,
   "metadata": {
    "collapsed": true
   },
   "outputs": [],
   "source": [
    "if CLEAR_EXISTING:\n",
    "    shutil.rmtree(IMAGES_SOURCE_DIR)\n",
    "    os.mkdir(IMAGES_SOURCE_DIR)"
   ]
  },
  {
   "cell_type": "code",
   "execution_count": 9,
   "metadata": {
    "collapsed": true
   },
   "outputs": [],
   "source": [
    "if not os.path.exists(PLOTS_DIR):\n",
    "    os.mkdir(PLOTS_DIR)"
   ]
  },
  {
   "cell_type": "code",
   "execution_count": 10,
   "metadata": {
    "collapsed": true
   },
   "outputs": [],
   "source": [
    "fname = os.path.join(STATS_DIR, MODE+\"_outputs.pkl\")\n",
    "with open(fname, \"rb\") as f:\n",
    "    d = pickle.load(f)\n",
    "X = d[\"images\"]\n",
    "y = np.array(d[\"labels\"]) if d[\"labels\"] is not None else None\n",
    "d_out = np.array(d[\"critic_outputs\"])"
   ]
  },
  {
   "cell_type": "code",
   "execution_count": 11,
   "metadata": {},
   "outputs": [
    {
     "name": "stdout",
     "output_type": "stream",
     "text": [
      "(9984, 32, 32, 3) None (9984,) float64\n"
     ]
    }
   ],
   "source": [
    "print(X.shape, y.shape if y is not None else None, d_out.shape, X.dtype)"
   ]
  },
  {
   "cell_type": "code",
   "execution_count": 29,
   "metadata": {
    "collapsed": true
   },
   "outputs": [],
   "source": [
    "perm = np.random.permutation(len(X))\n",
    "X = X[perm]\n",
    "y = y[perm] if y is not None else None\n",
    "d_out = d_out[perm]"
   ]
  },
  {
   "cell_type": "code",
   "execution_count": 12,
   "metadata": {},
   "outputs": [
    {
     "name": "stderr",
     "output_type": "stream",
     "text": [
      "/home/sudeep/.conda/envs/keras_gpu_tensorflow/lib/python3.6/site-packages/ipykernel/__main__.py:2: DeprecationWarning: `imsave` is deprecated!\n",
      "`imsave` is deprecated in SciPy 1.0.0, and will be removed in 1.2.0.\n",
      "Use ``imageio.imwrite`` instead.\n",
      "  from ipykernel import kernelapp as app\n"
     ]
    }
   ],
   "source": [
    "for i in range(MAX_LOAD):\n",
    "    imsave(os.path.join(IMAGES_SOURCE_DIR, str(i)+\".png\"), X[i])"
   ]
  },
  {
   "cell_type": "code",
   "execution_count": 13,
   "metadata": {
    "collapsed": true
   },
   "outputs": [],
   "source": [
    "kde = stats.gaussian_kde(d_out)\n",
    "est = kde(d_out).tolist()"
   ]
  },
  {
   "cell_type": "code",
   "execution_count": 14,
   "metadata": {},
   "outputs": [
    {
     "data": {
      "image/png": "[encoded data removed]",
      "text/plain": [
       "<Figure size 432x288 with 1 Axes>"
      ]
     },
     "metadata": {},
     "output_type": "display_data"
    }
   ],
   "source": [
    "plt.scatter(d_out, est)\n",
    "#plt.savefig(os.path.join(PLOTS_DIR, MODE+\"_density_estimate.png\"))\n",
    "plt.show()"
   ]
  },
  {
   "cell_type": "code",
   "execution_count": 15,
   "metadata": {
    "collapsed": true
   },
   "outputs": [],
   "source": [
    "from bokeh.plotting import figure, output_file, show, ColumnDataSource, reset_output, output_notebook\n",
    "from bokeh.transform import linear_cmap\n",
    "from bokeh.palettes import d3\n",
    "from bokeh.models import CategoricalColorMapper\n",
    "reset_output()\n",
    "\n",
    "TOOLTIPS = \"\"\"\n",
    "    <div>\n",
    "        <div>\n",
    "            <img\n",
    "                src=\"@imgs\" height=\"48\" width=\"48\"\n",
    "                style=\"float: left; margin: 0px 15px 15px 0px;\"\n",
    "                border=\"2\"\n",
    "            ></img>\n",
    "        </div>\n",
    "    </div>\n",
    "\"\"\"\n",
    "\n",
    "\n",
    "if MODE != \"generated\":\n",
    "    source = ColumnDataSource(data=dict(\n",
    "        x=d_out[:MAX_LOAD].tolist(),\n",
    "        y=est[:MAX_LOAD],\n",
    "        imgs=[os.path.join(IMAGES_SOURCE_DIR, str(i)+\".png\") for i in range(MAX_LOAD)],\n",
    "        labels = [CATEGORY_DICT[i] for i in y[:MAX_LOAD]]\n",
    "    ))\n",
    "    color_map = CategoricalColorMapper(factors=list(CATEGORY_DICT.values()),\n",
    "                                   palette=d3['Category10'][10])\n",
    "    color = {'field': 'labels', 'transform': color_map}\n",
    "    legend = 'labels'\n",
    "    p = figure(x_range=(-3, 6), y_range=(0, max(0.7, np.max(est[:MAX_LOAD]))), plot_width=1600, plot_height=800, tooltips=TOOLTIPS,\n",
    "           title=MODE)\n",
    "    p.circle('x', 'y', color=color, size=10, source=source, legend=legend)\n",
    "else:\n",
    "    source = ColumnDataSource(data=dict(\n",
    "        x=d_out[:MAX_LOAD].tolist(),\n",
    "        y=est[:MAX_LOAD],\n",
    "        imgs=[os.path.join(IMAGES_SOURCE_DIR, str(i)+\".png\") for i in range(MAX_LOAD)]))\n",
    "    color_map = None\n",
    "    color = None\n",
    "    legend = None\n",
    "    p = figure(x_range=(-3, 6), y_range=(0, 1.25*np.max(est[:MAX_LOAD])), plot_width=1600, plot_height=800, tooltips=TOOLTIPS,\n",
    "           title=MODE)\n",
    "    p.circle('x', 'y', size=10, source=source)\n",
    "\n",
    "output_file(os.path.join(PLOTS_DIR, MODE+\"_stats.html\"))\n",
    "\n",
    "show(p)"
   ]
  },
  {
   "cell_type": "markdown",
   "metadata": {},
   "source": [
    "------"
   ]
  },
  {
   "cell_type": "markdown",
   "metadata": {},
   "source": [
    "### For displaying on internet"
   ]
  },
  {
   "cell_type": "code",
   "execution_count": 16,
   "metadata": {
    "collapsed": true
   },
   "outputs": [],
   "source": [
    "if MODE == \"train\":\n",
    "    IMAGES_SOURCE_DIR = \"https://github.com/sudeepkatakol/SpecNormedGAN/tree/master/images/train\"\n",
    "elif MODE == \"test\":\n",
    "    IMAGES_SOURCE_DIR = \"https://github.com/sudeepkatakol/SpecNormedGAN/tree/master/images/test\"\n",
    "elif MODE == \"generated\":\n",
    "    IMAGES_SOURCE_DIR = \"https://github.com/sudeepkatakol/SpecNormedGAN/tree/master/images/generated\""
   ]
  },
  {
   "cell_type": "code",
   "execution_count": 17,
   "metadata": {
    "collapsed": true
   },
   "outputs": [],
   "source": [
    "PLOTS_DIR = os.path.join(BASE_DIR, \"plots\")"
   ]
  },
  {
   "cell_type": "code",
   "execution_count": 18,
   "metadata": {},
   "outputs": [
    {
     "data": {
      "text/plain": [
       "'/home/sudeep/Work/SNGAN/plots'"
      ]
     },
     "execution_count": 18,
     "metadata": {},
     "output_type": "execute_result"
    }
   ],
   "source": [
    "PLOTS_DIR"
   ]
  },
  {
   "cell_type": "code",
   "execution_count": 19,
   "metadata": {},
   "outputs": [
    {
     "data": {
      "text/plain": [
       "'https://github.com/sudeepkatakol/SpecNormedGAN/tree/master/images/generated'"
      ]
     },
     "execution_count": 19,
     "metadata": {},
     "output_type": "execute_result"
    }
   ],
   "source": [
    "IMAGES_SOURCE_DIR"
   ]
  },
  {
   "cell_type": "code",
   "execution_count": 42,
   "metadata": {
    "collapsed": true
   },
   "outputs": [],
   "source": [
    "from bokeh.plotting import figure, output_file, show, ColumnDataSource\n",
    "reset_output()\n",
    "output_file(\"toolbar.html\")\n",
    "\n",
    "source = ColumnDataSource(data=dict(\n",
    "    x=[1, 2, 3, 4, 5],\n",
    "    y=[2, 5, 8, 2, 7],\n",
    "    desc=['A', 'b', 'C', 'd', 'E'],\n",
    "    imgs=[\n",
    "        'https://github.com/sudeepkatakol/SpecNormedGAN/blob/master/images/train/0.png',\n",
    "        'https://bokeh.pydata.org/static/snake2.png',\n",
    "        'https://bokeh.pydata.org/static/snake3D.png',\n",
    "        'https://bokeh.pydata.org/static/snake4_TheRevenge.png',\n",
    "        'https://bokeh.pydata.org/static/snakebite.jpg'\n",
    "    ],\n",
    "    fonts=[\n",
    "        '<i>italics</i>',\n",
    "        '<pre>pre</pre>',\n",
    "        '<b>bold</b>',\n",
    "        '<small>small</small>',\n",
    "        '<del>del</del>'\n",
    "    ]\n",
    "))\n",
    "\n",
    "TOOLTIPS = \"\"\"\n",
    "    <div>\n",
    "        <div>\n",
    "            <img\n",
    "                src=\"@imgs\" height=\"42\" alt=\"@imgs\" width=\"42\"\n",
    "                style=\"float: left; margin: 0px 15px 15px 0px;\"\n",
    "                border=\"2\"\n",
    "            ></img>\n",
    "        </div>\n",
    "        <div>\n",
    "            <span style=\"font-size: 17px; font-weight: bold;\">@desc</span>\n",
    "            <span style=\"font-size: 15px; color: #966;\">[$index]</span>\n",
    "        </div>\n",
    "        <div>\n",
    "            <span>@fonts{safe}</span>\n",
    "        </div>\n",
    "        <div>\n",
    "            <span style=\"font-size: 15px;\">Location</span>\n",
    "            <span style=\"font-size: 10px; color: #696;\">($x, $y)</span>\n",
    "        </div>\n",
    "    </div>\n",
    "\"\"\"\n",
    "\n",
    "p = figure(plot_width=400, plot_height=400, tooltips=TOOLTIPS,\n",
    "           title=\"Mouse over the dots\")\n",
    "\n",
    "p.circle('x', 'y', size=20, source=source)\n",
    "\n",
    "show(p)"
   ]
  },
  {
   "cell_type": "markdown",
   "metadata": {
    "collapsed": true
   },
   "source": [
    "--------"
   ]
  },
  {
   "cell_type": "code",
   "execution_count": 20,
   "metadata": {
    "collapsed": true
   },
   "outputs": [],
   "source": [
    "MODES = [\"train\", \"test\", \"generated\"]"
   ]
  },
  {
   "cell_type": "code",
   "execution_count": 21,
   "metadata": {
    "collapsed": true
   },
   "outputs": [],
   "source": [
    "D_OUTS = []\n",
    "for MODE in MODES:\n",
    "    fname = os.path.join(STATS_DIR, MODE+\"_outputs.pkl\")\n",
    "    with open(fname, \"rb\") as f:\n",
    "        d = pickle.load(f)\n",
    "    d_out = np.array(d[\"critic_outputs\"])\n",
    "    D_OUTS.append(d_out)"
   ]
  },
  {
   "cell_type": "code",
   "execution_count": 22,
   "metadata": {
    "collapsed": true
   },
   "outputs": [],
   "source": [
    "ESTS = []\n",
    "for d_out in D_OUTS:\n",
    "    kde = stats.gaussian_kde(d_out)\n",
    "    ESTS.append(kde(d_out).tolist())"
   ]
  },
  {
   "cell_type": "code",
   "execution_count": 23,
   "metadata": {},
   "outputs": [
    {
     "data": {
      "image/png": "[encoded data removed]",
      "text/plain": [
       "<Figure size 432x288 with 1 Axes>"
      ]
     },
     "metadata": {},
     "output_type": "display_data"
    }
   ],
   "source": [
    "COLORS = ['blue', 'red', 'green']\n",
    "fig, ax = plt.subplots()\n",
    "for i in range(3):\n",
    "    plt.scatter(D_OUTS[i], ESTS[i], label=MODES[i], color = COLORS[i])\n",
    "ax.legend()\n",
    "ax.grid(True)"
   ]
  },
  {
   "cell_type": "code",
   "execution_count": 32,
   "metadata": {
    "collapsed": true
   },
   "outputs": [],
   "source": [
    "from bokeh.plotting import figure, output_file, show, ColumnDataSource, reset_output, output_notebook\n",
    "from bokeh.transform import linear_cmap\n",
    "from bokeh.palettes import d3\n",
    "from bokeh.models import CategoricalColorMapper\n",
    "reset_output()\n",
    "MAX_LOAD = 300\n",
    "TOOLTIPS = \"\"\"\n",
    "    <div>\n",
    "        <div>\n",
    "            <img\n",
    "                src=\"@imgs\" height=\"48\" width=\"48\"\n",
    "                style=\"float: left; margin: 0px 15px 15px 0px;\"\n",
    "                border=\"2\"\n",
    "            ></img>\n",
    "        </div>\n",
    "    </div>\n",
    "\"\"\"\n",
    "\n",
    "\n",
    "if MODE != \"generated\":\n",
    "    source = ColumnDataSource(data=dict(\n",
    "        x=d_out[:MAX_LOAD].tolist(),\n",
    "        y=est[:MAX_LOAD],\n",
    "        imgs=[os.path.join(IMAGES_SOURCE_DIR, str(i)+\".png\") for i in range(MAX_LOAD)],\n",
    "        labels = [CATEGORY_DICT[i] for i in y[:MAX_LOAD]]\n",
    "    ))\n",
    "    color_map = CategoricalColorMapper(factors=list(CATEGORY_DICT.values()),\n",
    "                                   palette=d3['Category10'][10])\n",
    "    color = {'field': 'labels', 'transform': color_map}\n",
    "    legend = 'labels'\n",
    "    p = figure(x_range=(-3, 6), y_range=(0, max(0.7, np.max(est[:MAX_LOAD]))), plot_width=1600, plot_height=800, tooltips=TOOLTIPS,\n",
    "           title=MODE)\n",
    "    p.circle('x', 'y', color=color, size=10, source=source, legend=legend)\n",
    "else:\n",
    "    source = ColumnDataSource(data=dict(\n",
    "        x=d_out[:MAX_LOAD].tolist(),\n",
    "        y=est[:MAX_LOAD],\n",
    "        imgs=[os.path.join(IMAGES_SOURCE_DIR, str(i)+\".png\") for i in range(MAX_LOAD)]))\n",
    "    color_map = None\n",
    "    color = None\n",
    "    legend = None\n",
    "    p = figure(x_range=(-3, 6), y_range=(0, 1.25*np.max(est[:MAX_LOAD])), plot_width=1600, plot_height=800, tooltips=TOOLTIPS,\n",
    "           title=MODE)\n",
    "    p.circle('x', 'y', size=10, source=source)\n",
    "\n",
    "output_file(os.path.join(PLOTS_DIR, MODE+\"_stats.html\"))\n",
    "\n",
    "show(p)"
   ]
  },
  {
   "cell_type": "code",
   "execution_count": null,
   "metadata": {
    "collapsed": true
   },
   "outputs": [],
   "source": []
  }
 ],
 "metadata": {
  "kernelspec": {
   "display_name": "Python [conda env:keras_gpu_tensorflow]",
   "language": "python",
   "name": "conda-env-keras_gpu_tensorflow-py"
  },
  "language_info": {
   "codemirror_mode": {
    "name": "ipython",
    "version": 3
   },
   "file_extension": ".py",
   "mimetype": "text/x-python",
   "name": "python",
   "nbconvert_exporter": "python",
   "pygments_lexer": "ipython3",
   "version": "3.6.4"
  }
 },
 "nbformat": 4,
 "nbformat_minor": 2
}
